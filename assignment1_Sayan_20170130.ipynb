{
 "cells": [
  {
   "cell_type": "code",
   "execution_count": 2,
   "metadata": {
    "collapsed": true
   },
   "outputs": [],
   "source": [
    "#importing libraries, models and metrics\n",
    "\n",
    "import pandas as pd\n",
    "import numpy as np\n",
    "import matplotlib.pyplot as plt\n",
    "%matplotlib inline\n",
    "from sklearn.cross_validation import train_test_split\n",
    "from sklearn.feature_selection import SelectKBest, chi2, f_classif\n",
    "from sklearn.pipeline import Pipeline\n",
    "from sklearn.svm import LinearSVC\n",
    "from sklearn.linear_model import LogisticRegression\n",
    "from sklearn.naive_bayes import BernoulliNB, MultinomialNB, GaussianNB\n",
    "from sklearn.ensemble import RandomForestClassifier\n",
    "from sklearn.utils.extmath import density\n",
    "from sklearn.metrics import classification_report, roc_auc_score\n",
    "from sklearn.metrics import confusion_matrix\n",
    "from sklearn.metrics import accuracy_score\n",
    "from sklearn.cross_validation import KFold\n",
    "from sklearn.cross_validation import StratifiedKFold\n",
    "from sklearn.decomposition import PCA\n",
    "from sklearn.preprocessing import StandardScaler, RobustScaler, MinMaxScaler\n",
    "from sklearn.cluster import spectral_clustering, KMeans, AgglomerativeClustering\n",
    "import seaborn as sns\n",
    "from itertools import compress"
   ]
  },
  {
   "cell_type": "code",
   "execution_count": 3,
   "metadata": {
    "collapsed": true
   },
   "outputs": [],
   "source": [
    "df = pd.read_csv(\"conversion_data.csv\")"
   ]
  },
  {
   "cell_type": "code",
   "execution_count": 3,
   "metadata": {
    "collapsed": false
   },
   "outputs": [
    {
     "data": {
      "text/html": [
       "<div>\n",
       "<table border=\"1\" class=\"dataframe\">\n",
       "  <thead>\n",
       "    <tr style=\"text-align: right;\">\n",
       "      <th></th>\n",
       "      <th>country</th>\n",
       "      <th>age</th>\n",
       "      <th>new_user</th>\n",
       "      <th>source</th>\n",
       "      <th>total_pages_visited</th>\n",
       "      <th>converted</th>\n",
       "    </tr>\n",
       "  </thead>\n",
       "  <tbody>\n",
       "    <tr>\n",
       "      <th>0</th>\n",
       "      <td>UK</td>\n",
       "      <td>25</td>\n",
       "      <td>1</td>\n",
       "      <td>Ads</td>\n",
       "      <td>1</td>\n",
       "      <td>0</td>\n",
       "    </tr>\n",
       "    <tr>\n",
       "      <th>1</th>\n",
       "      <td>US</td>\n",
       "      <td>23</td>\n",
       "      <td>1</td>\n",
       "      <td>Seo</td>\n",
       "      <td>5</td>\n",
       "      <td>0</td>\n",
       "    </tr>\n",
       "    <tr>\n",
       "      <th>2</th>\n",
       "      <td>US</td>\n",
       "      <td>28</td>\n",
       "      <td>1</td>\n",
       "      <td>Seo</td>\n",
       "      <td>4</td>\n",
       "      <td>0</td>\n",
       "    </tr>\n",
       "    <tr>\n",
       "      <th>3</th>\n",
       "      <td>China</td>\n",
       "      <td>39</td>\n",
       "      <td>1</td>\n",
       "      <td>Seo</td>\n",
       "      <td>5</td>\n",
       "      <td>0</td>\n",
       "    </tr>\n",
       "    <tr>\n",
       "      <th>4</th>\n",
       "      <td>US</td>\n",
       "      <td>30</td>\n",
       "      <td>1</td>\n",
       "      <td>Seo</td>\n",
       "      <td>6</td>\n",
       "      <td>0</td>\n",
       "    </tr>\n",
       "  </tbody>\n",
       "</table>\n",
       "</div>"
      ],
      "text/plain": [
       "  country  age  new_user source  total_pages_visited  converted\n",
       "0      UK   25         1    Ads                    1          0\n",
       "1      US   23         1    Seo                    5          0\n",
       "2      US   28         1    Seo                    4          0\n",
       "3   China   39         1    Seo                    5          0\n",
       "4      US   30         1    Seo                    6          0"
      ]
     },
     "execution_count": 3,
     "metadata": {},
     "output_type": "execute_result"
    }
   ],
   "source": [
    "df.head()"
   ]
  },
  {
   "cell_type": "markdown",
   "metadata": {},
   "source": [
    "There seem to be a few variables, cleanly formatted. Let us see how the values are distributed!"
   ]
  },
  {
   "cell_type": "code",
   "execution_count": 4,
   "metadata": {
    "collapsed": false
   },
   "outputs": [
    {
     "data": {
      "text/html": [
       "<div>\n",
       "<table border=\"1\" class=\"dataframe\">\n",
       "  <thead>\n",
       "    <tr style=\"text-align: right;\">\n",
       "      <th></th>\n",
       "      <th>age</th>\n",
       "      <th>new_user</th>\n",
       "      <th>total_pages_visited</th>\n",
       "      <th>converted</th>\n",
       "    </tr>\n",
       "  </thead>\n",
       "  <tbody>\n",
       "    <tr>\n",
       "      <th>count</th>\n",
       "      <td>316200.000000</td>\n",
       "      <td>316200.000000</td>\n",
       "      <td>316200.000000</td>\n",
       "      <td>316200.000000</td>\n",
       "    </tr>\n",
       "    <tr>\n",
       "      <th>mean</th>\n",
       "      <td>30.569858</td>\n",
       "      <td>0.685465</td>\n",
       "      <td>4.872966</td>\n",
       "      <td>0.032258</td>\n",
       "    </tr>\n",
       "    <tr>\n",
       "      <th>std</th>\n",
       "      <td>8.271802</td>\n",
       "      <td>0.464331</td>\n",
       "      <td>3.341104</td>\n",
       "      <td>0.176685</td>\n",
       "    </tr>\n",
       "    <tr>\n",
       "      <th>min</th>\n",
       "      <td>17.000000</td>\n",
       "      <td>0.000000</td>\n",
       "      <td>1.000000</td>\n",
       "      <td>0.000000</td>\n",
       "    </tr>\n",
       "    <tr>\n",
       "      <th>25%</th>\n",
       "      <td>24.000000</td>\n",
       "      <td>0.000000</td>\n",
       "      <td>2.000000</td>\n",
       "      <td>0.000000</td>\n",
       "    </tr>\n",
       "    <tr>\n",
       "      <th>50%</th>\n",
       "      <td>30.000000</td>\n",
       "      <td>1.000000</td>\n",
       "      <td>4.000000</td>\n",
       "      <td>0.000000</td>\n",
       "    </tr>\n",
       "    <tr>\n",
       "      <th>75%</th>\n",
       "      <td>36.000000</td>\n",
       "      <td>1.000000</td>\n",
       "      <td>7.000000</td>\n",
       "      <td>0.000000</td>\n",
       "    </tr>\n",
       "    <tr>\n",
       "      <th>66%</th>\n",
       "      <td>34.000000</td>\n",
       "      <td>1.000000</td>\n",
       "      <td>6.000000</td>\n",
       "      <td>0.000000</td>\n",
       "    </tr>\n",
       "    <tr>\n",
       "      <th>33%</th>\n",
       "      <td>26.000000</td>\n",
       "      <td>1.000000</td>\n",
       "      <td>3.000000</td>\n",
       "      <td>0.000000</td>\n",
       "    </tr>\n",
       "    <tr>\n",
       "      <th>max</th>\n",
       "      <td>123.000000</td>\n",
       "      <td>1.000000</td>\n",
       "      <td>29.000000</td>\n",
       "      <td>1.000000</td>\n",
       "    </tr>\n",
       "  </tbody>\n",
       "</table>\n",
       "</div>"
      ],
      "text/plain": [
       "                 age       new_user  total_pages_visited      converted\n",
       "count  316200.000000  316200.000000        316200.000000  316200.000000\n",
       "mean       30.569858       0.685465             4.872966       0.032258\n",
       "std         8.271802       0.464331             3.341104       0.176685\n",
       "min        17.000000       0.000000             1.000000       0.000000\n",
       "25%        24.000000       0.000000             2.000000       0.000000\n",
       "50%        30.000000       1.000000             4.000000       0.000000\n",
       "75%        36.000000       1.000000             7.000000       0.000000\n",
       "66%        34.000000       1.000000             6.000000       0.000000\n",
       "33%        26.000000       1.000000             3.000000       0.000000\n",
       "max       123.000000       1.000000            29.000000       1.000000"
      ]
     },
     "execution_count": 4,
     "metadata": {},
     "output_type": "execute_result"
    }
   ],
   "source": [
    "# Checking the various points in the percentile to see the nature of the data\n",
    "\n",
    "df.describe(percentiles=[.25, .50, .75, 0.66, 0.33])"
   ]
  },
  {
   "cell_type": "markdown",
   "metadata": {},
   "source": [
    "The Max age seems to be curiously high, let's see what the ages look like visually"
   ]
  },
  {
   "cell_type": "code",
   "execution_count": 5,
   "metadata": {
    "collapsed": false
   },
   "outputs": [
    {
     "data": {
      "text/plain": [
       "<matplotlib.axes._subplots.AxesSubplot at 0x7f849a1a8550>"
      ]
     },
     "execution_count": 5,
     "metadata": {},
     "output_type": "execute_result"
    },
    {
     "data": {
      "image/png": "[encoded data removed]",
      "text/plain": [
       "<matplotlib.figure.Figure at 0x7f849a425a20>"
      ]
     },
     "metadata": {},
     "output_type": "display_data"
    }
   ],
   "source": [
    "df.country.unique()\n",
    "df[[\"age\"]].plot()\n",
    "\n",
    "#Looks like there are only two outliers."
   ]
  },
  {
   "cell_type": "code",
   "execution_count": 16,
   "metadata": {
    "collapsed": false
   },
   "outputs": [
    {
     "data": {
      "image/png": "[encoded data removed]",
      "text/plain": [
       "<matplotlib.figure.Figure at 0x7f0ec8040be0>"
      ]
     },
     "metadata": {},
     "output_type": "display_data"
    }
   ],
   "source": [
    "sns.set(style=\"darkgrid\")\n",
    "converts = df[df[\"converted\"]==1].country.value_counts(ascending=True)\n",
    "holdouts = df[df[\"converted\"]==0].country.value_counts(ascending=True)\n",
    "# sorted_category_counts.plot(kind='bar', figsize=(4,4), title=\"Column by Country\");\n",
    "\n",
    "ind = np.arange(4)\n",
    "width = 0.35  \n",
    "\n",
    "p1 = plt.bar(ind, converts, width, color='orange',\n",
    "             bottom=holdouts)\n",
    "p2 = plt.bar(ind, holdouts, width)\n",
    "\n",
    "plt.ylabel('Number of Browsers')\n",
    "# plt.title('Scores by group and gender')\n",
    "# plt.legend((p1[0], p2[0]), ('Payers', 'Nonpayers'))\n",
    "\n",
    "plt.show()"
   ]
  },
  {
   "cell_type": "code",
   "execution_count": 18,
   "metadata": {
    "collapsed": false
   },
   "outputs": [
    {
     "data": {
      "image/png": "[encoded data removed]",
      "text/plain": [
       "<matplotlib.figure.Figure at 0x7f0ec80a95c0>"
      ]
     },
     "metadata": {},
     "output_type": "display_data"
    }
   ],
   "source": [
    "sorted_category_counts = df[df[\"converted\"]==1].country.value_counts()/df.country.value_counts()\n",
    "sorted_category_counts.plot(kind='bar', figsize=(4,4), title=\"Column by country\", );"
   ]
  },
  {
   "cell_type": "code",
   "execution_count": 19,
   "metadata": {
    "collapsed": false
   },
   "outputs": [
    {
     "data": {
      "image/png": "[encoded data removed]",
      "text/plain": [
       "<matplotlib.figure.Figure at 0x7f0ec7f14a20>"
      ]
     },
     "metadata": {},
     "output_type": "display_data"
    }
   ],
   "source": [
    "\n",
    "sorted_category_counts = df.source.value_counts()\n",
    "sorted_category_counts.plot(kind='bar', figsize=(4,4), title=\"Column by source\");"
   ]
  },
  {
   "cell_type": "code",
   "execution_count": 20,
   "metadata": {
    "collapsed": false
   },
   "outputs": [
    {
     "data": {
      "image/png": "[encoded data removed]",
      "text/plain": [
       "<matplotlib.figure.Figure at 0x7f0ec8084908>"
      ]
     },
     "metadata": {},
     "output_type": "display_data"
    }
   ],
   "source": [
    "sorted_category_counts = df.age.value_counts().sort_index(ascending=True)\n",
    "sorted_category_counts.plot(kind='bar', figsize=(10,5), title=\"Column by age\");"
   ]
  },
  {
   "cell_type": "code",
   "execution_count": 21,
   "metadata": {
    "collapsed": false
   },
   "outputs": [
    {
     "data": {
      "image/png": "[encoded data removed]",
      "text/plain": [
       "<matplotlib.figure.Figure at 0x7f0ec7c3b710>"
      ]
     },
     "metadata": {},
     "output_type": "display_data"
    }
   ],
   "source": [
    "sorted_category_counts = df.total_pages_visited.value_counts().sort_index(ascending=True)\n",
    "sorted_category_counts.plot(kind='bar', figsize=(10,5), title=\"Columns by total_pages_visited\");"
   ]
  },
  {
   "cell_type": "markdown",
   "metadata": {},
   "source": [
    "### Creating Bins for age group and engagement"
   ]
  },
  {
   "cell_type": "code",
   "execution_count": 84,
   "metadata": {
    "collapsed": false
   },
   "outputs": [
    {
     "data": {
      "image/png": "[encoded data removed]",
      "text/plain": [
       "<matplotlib.figure.Figure at 0x7f0ec6f23f98>"
      ]
     },
     "metadata": {},
     "output_type": "display_data"
    }
   ],
   "source": [
    "df[\"age_group\"] = df.age.map(lambda x: 0 if x < 24 else 1 if x < 30 else 2 if x < 36 else 3)\n",
    "sorted_category_counts = df.age_group.value_counts().sort_index(ascending=True)\n",
    "sorted_category_counts.plot(kind='bar', figsize=(10,5), title=\"Columns by age_group\");"
   ]
  },
  {
   "cell_type": "code",
   "execution_count": 85,
   "metadata": {
    "collapsed": false
   },
   "outputs": [
    {
     "data": {
      "image/png": "[encoded data removed]",
      "text/plain": [
       "<matplotlib.figure.Figure at 0x7f0ec6df2c88>"
      ]
     },
     "metadata": {},
     "output_type": "display_data"
    }
   ],
   "source": [
    "df[\"engagement_group\"] = df.total_pages_visited.map(lambda x: 0 if x < 2 else 1 if x < 4 else 2 if x < 7 else 3)\n",
    "sorted_category_counts = df.engagement_group.value_counts().sort_index(ascending=True)\n",
    "sorted_category_counts.plot(kind='bar', figsize=(10,5), title=\"Columns by engagement_group\");"
   ]
  },
  {
   "cell_type": "code",
   "execution_count": 7,
   "metadata": {
    "collapsed": false
   },
   "outputs": [
    {
     "data": {
      "text/html": [
       "<div>\n",
       "<table border=\"1\" class=\"dataframe\">\n",
       "  <thead>\n",
       "    <tr style=\"text-align: right;\">\n",
       "      <th></th>\n",
       "      <th>China</th>\n",
       "      <th>Germany</th>\n",
       "      <th>UK</th>\n",
       "      <th>US</th>\n",
       "    </tr>\n",
       "  </thead>\n",
       "  <tbody>\n",
       "    <tr>\n",
       "      <th>0</th>\n",
       "      <td>0.0</td>\n",
       "      <td>0.0</td>\n",
       "      <td>1.0</td>\n",
       "      <td>0.0</td>\n",
       "    </tr>\n",
       "    <tr>\n",
       "      <th>1</th>\n",
       "      <td>0.0</td>\n",
       "      <td>0.0</td>\n",
       "      <td>0.0</td>\n",
       "      <td>1.0</td>\n",
       "    </tr>\n",
       "    <tr>\n",
       "      <th>2</th>\n",
       "      <td>0.0</td>\n",
       "      <td>0.0</td>\n",
       "      <td>0.0</td>\n",
       "      <td>1.0</td>\n",
       "    </tr>\n",
       "    <tr>\n",
       "      <th>3</th>\n",
       "      <td>1.0</td>\n",
       "      <td>0.0</td>\n",
       "      <td>0.0</td>\n",
       "      <td>0.0</td>\n",
       "    </tr>\n",
       "    <tr>\n",
       "      <th>4</th>\n",
       "      <td>0.0</td>\n",
       "      <td>0.0</td>\n",
       "      <td>0.0</td>\n",
       "      <td>1.0</td>\n",
       "    </tr>\n",
       "  </tbody>\n",
       "</table>\n",
       "</div>"
      ],
      "text/plain": [
       "   China  Germany   UK   US\n",
       "0    0.0      0.0  1.0  0.0\n",
       "1    0.0      0.0  0.0  1.0\n",
       "2    0.0      0.0  0.0  1.0\n",
       "3    1.0      0.0  0.0  0.0\n",
       "4    0.0      0.0  0.0  1.0"
      ]
     },
     "execution_count": 7,
     "metadata": {},
     "output_type": "execute_result"
    }
   ],
   "source": [
    "pd.get_dummies(df.country).head()"
   ]
  },
  {
   "cell_type": "markdown",
   "metadata": {},
   "source": [
    "### Creating Dummy Variables"
   ]
  },
  {
   "cell_type": "code",
   "execution_count": 25,
   "metadata": {
    "collapsed": false
   },
   "outputs": [],
   "source": [
    "df[\"UK\"] = pd.get_dummies(df.country)[\"UK\"]\n",
    "df[\"US\"] = pd.get_dummies(df.country)[\"US\"]\n",
    "df[\"China\"] = pd.get_dummies(df.country)[\"China\"]\n",
    "df[\"Germany\"] = pd.get_dummies(df.country)[\"Germany\"]"
   ]
  },
  {
   "cell_type": "code",
   "execution_count": 26,
   "metadata": {
    "collapsed": false
   },
   "outputs": [],
   "source": [
    "# pd.get_dummies(df.source)\n",
    "df[\"Ads\"] = pd.get_dummies(df.source)[\"Ads\"]\n",
    "df[\"Direct\"] = pd.get_dummies(df.source)[\"Direct\"]\n",
    "df[\"Seo\"] = pd.get_dummies(df.source)[\"Seo\"]"
   ]
  },
  {
   "cell_type": "code",
   "execution_count": 31,
   "metadata": {
    "collapsed": false
   },
   "outputs": [
    {
     "data": {
      "text/html": [
       "<div>\n",
       "<table border=\"1\" class=\"dataframe\">\n",
       "  <thead>\n",
       "    <tr style=\"text-align: right;\">\n",
       "      <th></th>\n",
       "      <th>country</th>\n",
       "      <th>age</th>\n",
       "      <th>new_user</th>\n",
       "      <th>source</th>\n",
       "      <th>total_pages_visited</th>\n",
       "      <th>converted</th>\n",
       "      <th>age_group</th>\n",
       "      <th>engagement_group</th>\n",
       "      <th>UK</th>\n",
       "      <th>US</th>\n",
       "      <th>China</th>\n",
       "      <th>Germany</th>\n",
       "      <th>Ads</th>\n",
       "      <th>Direct</th>\n",
       "      <th>Seo</th>\n",
       "    </tr>\n",
       "  </thead>\n",
       "  <tbody>\n",
       "    <tr>\n",
       "      <th>0</th>\n",
       "      <td>UK</td>\n",
       "      <td>25</td>\n",
       "      <td>1</td>\n",
       "      <td>Ads</td>\n",
       "      <td>1</td>\n",
       "      <td>0</td>\n",
       "      <td>0</td>\n",
       "      <td>0</td>\n",
       "      <td>1.0</td>\n",
       "      <td>0.0</td>\n",
       "      <td>0.0</td>\n",
       "      <td>0.0</td>\n",
       "      <td>1.0</td>\n",
       "      <td>0.0</td>\n",
       "      <td>0.0</td>\n",
       "    </tr>\n",
       "    <tr>\n",
       "      <th>1</th>\n",
       "      <td>US</td>\n",
       "      <td>23</td>\n",
       "      <td>1</td>\n",
       "      <td>Seo</td>\n",
       "      <td>5</td>\n",
       "      <td>0</td>\n",
       "      <td>0</td>\n",
       "      <td>1</td>\n",
       "      <td>0.0</td>\n",
       "      <td>1.0</td>\n",
       "      <td>0.0</td>\n",
       "      <td>0.0</td>\n",
       "      <td>0.0</td>\n",
       "      <td>0.0</td>\n",
       "      <td>1.0</td>\n",
       "    </tr>\n",
       "    <tr>\n",
       "      <th>2</th>\n",
       "      <td>US</td>\n",
       "      <td>28</td>\n",
       "      <td>1</td>\n",
       "      <td>Seo</td>\n",
       "      <td>4</td>\n",
       "      <td>0</td>\n",
       "      <td>1</td>\n",
       "      <td>1</td>\n",
       "      <td>0.0</td>\n",
       "      <td>1.0</td>\n",
       "      <td>0.0</td>\n",
       "      <td>0.0</td>\n",
       "      <td>0.0</td>\n",
       "      <td>0.0</td>\n",
       "      <td>1.0</td>\n",
       "    </tr>\n",
       "    <tr>\n",
       "      <th>3</th>\n",
       "      <td>China</td>\n",
       "      <td>39</td>\n",
       "      <td>1</td>\n",
       "      <td>Seo</td>\n",
       "      <td>5</td>\n",
       "      <td>0</td>\n",
       "      <td>2</td>\n",
       "      <td>1</td>\n",
       "      <td>0.0</td>\n",
       "      <td>0.0</td>\n",
       "      <td>1.0</td>\n",
       "      <td>0.0</td>\n",
       "      <td>0.0</td>\n",
       "      <td>0.0</td>\n",
       "      <td>1.0</td>\n",
       "    </tr>\n",
       "    <tr>\n",
       "      <th>4</th>\n",
       "      <td>US</td>\n",
       "      <td>30</td>\n",
       "      <td>1</td>\n",
       "      <td>Seo</td>\n",
       "      <td>6</td>\n",
       "      <td>0</td>\n",
       "      <td>1</td>\n",
       "      <td>2</td>\n",
       "      <td>0.0</td>\n",
       "      <td>1.0</td>\n",
       "      <td>0.0</td>\n",
       "      <td>0.0</td>\n",
       "      <td>0.0</td>\n",
       "      <td>0.0</td>\n",
       "      <td>1.0</td>\n",
       "    </tr>\n",
       "  </tbody>\n",
       "</table>\n",
       "</div>"
      ],
      "text/plain": [
       "  country  age  new_user source  total_pages_visited  converted  age_group  \\\n",
       "0      UK   25         1    Ads                    1          0          0   \n",
       "1      US   23         1    Seo                    5          0          0   \n",
       "2      US   28         1    Seo                    4          0          1   \n",
       "3   China   39         1    Seo                    5          0          2   \n",
       "4      US   30         1    Seo                    6          0          1   \n",
       "\n",
       "   engagement_group   UK   US  China  Germany  Ads  Direct  Seo  \n",
       "0                 0  1.0  0.0    0.0      0.0  1.0     0.0  0.0  \n",
       "1                 1  0.0  1.0    0.0      0.0  0.0     0.0  1.0  \n",
       "2                 1  0.0  1.0    0.0      0.0  0.0     0.0  1.0  \n",
       "3                 1  0.0  0.0    1.0      0.0  0.0     0.0  1.0  \n",
       "4                 2  0.0  1.0    0.0      0.0  0.0     0.0  1.0  "
      ]
     },
     "execution_count": 31,
     "metadata": {},
     "output_type": "execute_result"
    }
   ],
   "source": [
    "df.head()"
   ]
  },
  {
   "cell_type": "code",
   "execution_count": 28,
   "metadata": {
    "collapsed": true
   },
   "outputs": [],
   "source": [
    "processed_df = df.copy()"
   ]
  },
  {
   "cell_type": "code",
   "execution_count": 29,
   "metadata": {
    "collapsed": false
   },
   "outputs": [],
   "source": [
    "del processed_df[\"country\"]"
   ]
  },
  {
   "cell_type": "code",
   "execution_count": 30,
   "metadata": {
    "collapsed": true
   },
   "outputs": [],
   "source": [
    "del processed_df[\"source\"]"
   ]
  },
  {
   "cell_type": "code",
   "execution_count": 32,
   "metadata": {
    "collapsed": false
   },
   "outputs": [
    {
     "data": {
      "text/html": [
       "<div>\n",
       "<table border=\"1\" class=\"dataframe\">\n",
       "  <thead>\n",
       "    <tr style=\"text-align: right;\">\n",
       "      <th></th>\n",
       "      <th>age</th>\n",
       "      <th>new_user</th>\n",
       "      <th>total_pages_visited</th>\n",
       "      <th>converted</th>\n",
       "      <th>age_group</th>\n",
       "      <th>engagement_group</th>\n",
       "      <th>UK</th>\n",
       "      <th>US</th>\n",
       "      <th>China</th>\n",
       "      <th>Germany</th>\n",
       "      <th>Ads</th>\n",
       "      <th>Direct</th>\n",
       "      <th>Seo</th>\n",
       "    </tr>\n",
       "  </thead>\n",
       "  <tbody>\n",
       "    <tr>\n",
       "      <th>0</th>\n",
       "      <td>25</td>\n",
       "      <td>1</td>\n",
       "      <td>1</td>\n",
       "      <td>0</td>\n",
       "      <td>0</td>\n",
       "      <td>0</td>\n",
       "      <td>1.0</td>\n",
       "      <td>0.0</td>\n",
       "      <td>0.0</td>\n",
       "      <td>0.0</td>\n",
       "      <td>1.0</td>\n",
       "      <td>0.0</td>\n",
       "      <td>0.0</td>\n",
       "    </tr>\n",
       "    <tr>\n",
       "      <th>1</th>\n",
       "      <td>23</td>\n",
       "      <td>1</td>\n",
       "      <td>5</td>\n",
       "      <td>0</td>\n",
       "      <td>0</td>\n",
       "      <td>1</td>\n",
       "      <td>0.0</td>\n",
       "      <td>1.0</td>\n",
       "      <td>0.0</td>\n",
       "      <td>0.0</td>\n",
       "      <td>0.0</td>\n",
       "      <td>0.0</td>\n",
       "      <td>1.0</td>\n",
       "    </tr>\n",
       "    <tr>\n",
       "      <th>2</th>\n",
       "      <td>28</td>\n",
       "      <td>1</td>\n",
       "      <td>4</td>\n",
       "      <td>0</td>\n",
       "      <td>1</td>\n",
       "      <td>1</td>\n",
       "      <td>0.0</td>\n",
       "      <td>1.0</td>\n",
       "      <td>0.0</td>\n",
       "      <td>0.0</td>\n",
       "      <td>0.0</td>\n",
       "      <td>0.0</td>\n",
       "      <td>1.0</td>\n",
       "    </tr>\n",
       "    <tr>\n",
       "      <th>3</th>\n",
       "      <td>39</td>\n",
       "      <td>1</td>\n",
       "      <td>5</td>\n",
       "      <td>0</td>\n",
       "      <td>2</td>\n",
       "      <td>1</td>\n",
       "      <td>0.0</td>\n",
       "      <td>0.0</td>\n",
       "      <td>1.0</td>\n",
       "      <td>0.0</td>\n",
       "      <td>0.0</td>\n",
       "      <td>0.0</td>\n",
       "      <td>1.0</td>\n",
       "    </tr>\n",
       "    <tr>\n",
       "      <th>4</th>\n",
       "      <td>30</td>\n",
       "      <td>1</td>\n",
       "      <td>6</td>\n",
       "      <td>0</td>\n",
       "      <td>1</td>\n",
       "      <td>2</td>\n",
       "      <td>0.0</td>\n",
       "      <td>1.0</td>\n",
       "      <td>0.0</td>\n",
       "      <td>0.0</td>\n",
       "      <td>0.0</td>\n",
       "      <td>0.0</td>\n",
       "      <td>1.0</td>\n",
       "    </tr>\n",
       "  </tbody>\n",
       "</table>\n",
       "</div>"
      ],
      "text/plain": [
       "   age  new_user  total_pages_visited  converted  age_group  engagement_group  \\\n",
       "0   25         1                    1          0          0                 0   \n",
       "1   23         1                    5          0          0                 1   \n",
       "2   28         1                    4          0          1                 1   \n",
       "3   39         1                    5          0          2                 1   \n",
       "4   30         1                    6          0          1                 2   \n",
       "\n",
       "    UK   US  China  Germany  Ads  Direct  Seo  \n",
       "0  1.0  0.0    0.0      0.0  1.0     0.0  0.0  \n",
       "1  0.0  1.0    0.0      0.0  0.0     0.0  1.0  \n",
       "2  0.0  1.0    0.0      0.0  0.0     0.0  1.0  \n",
       "3  0.0  0.0    1.0      0.0  0.0     0.0  1.0  \n",
       "4  0.0  1.0    0.0      0.0  0.0     0.0  1.0  "
      ]
     },
     "execution_count": 32,
     "metadata": {},
     "output_type": "execute_result"
    }
   ],
   "source": [
    "processed_df.head()"
   ]
  },
  {
   "cell_type": "markdown",
   "metadata": {},
   "source": [
    "## Ready to build a classification model\n",
    "\n",
    "### Use this code for cross validation, stratifiction and balancing weights!"
   ]
  },
  {
   "cell_type": "code",
   "execution_count": 97,
   "metadata": {
    "collapsed": false
   },
   "outputs": [
    {
     "name": "stdout",
     "output_type": "stream",
     "text": [
      "Accuracy: 98.57%\n",
      "AUC Score: 82.85%\n",
      "\n",
      "               precision    recall  f1-score   support\n",
      "\n",
      "Non Converted       0.99      1.00      0.99     24480\n",
      "    Converted       0.86      0.66      0.75       816\n",
      "\n",
      "  avg / total       0.98      0.99      0.98     25296\n",
      "\n",
      "\n",
      "\n",
      "Accuracy: 98.46%\n",
      "AUC Score: 83.57%\n",
      "\n",
      "               precision    recall  f1-score   support\n",
      "\n",
      "Non Converted       0.99      0.99      0.99     24480\n",
      "    Converted       0.81      0.68      0.74       816\n",
      "\n",
      "  avg / total       0.98      0.98      0.98     25296\n",
      "\n",
      "\n",
      "\n",
      "Accuracy: 98.54%\n",
      "AUC Score: 82.9%\n",
      "\n",
      "               precision    recall  f1-score   support\n",
      "\n",
      "Non Converted       0.99      1.00      0.99     24480\n",
      "    Converted       0.85      0.66      0.74       816\n",
      "\n",
      "  avg / total       0.98      0.99      0.98     25296\n",
      "\n",
      "\n",
      "\n",
      "Accuracy: 98.55%\n",
      "AUC Score: 83.02%\n",
      "\n",
      "               precision    recall  f1-score   support\n",
      "\n",
      "Non Converted       0.99      1.00      0.99     24480\n",
      "    Converted       0.85      0.66      0.75       816\n",
      "\n",
      "  avg / total       0.98      0.99      0.98     25296\n",
      "\n",
      "\n",
      "\n",
      "Accuracy: 98.7%\n",
      "AUC Score: 84.82%\n",
      "\n",
      "               precision    recall  f1-score   support\n",
      "\n",
      "Non Converted       0.99      1.00      0.99     24480\n",
      "    Converted       0.87      0.70      0.78       816\n",
      "\n",
      "  avg / total       0.99      0.99      0.99     25296\n",
      "\n",
      "\n",
      "\n",
      "Accuracy: 98.67%\n",
      "AUC Score: 84.86%\n",
      "\n",
      "               precision    recall  f1-score   support\n",
      "\n",
      "Non Converted       0.99      1.00      0.99     24480\n",
      "    Converted       0.86      0.70      0.77       816\n",
      "\n",
      "  avg / total       0.99      0.99      0.99     25296\n",
      "\n",
      "\n",
      "\n",
      "Accuracy: 98.6%\n",
      "AUC Score: 83.93%\n",
      "\n",
      "               precision    recall  f1-score   support\n",
      "\n",
      "Non Converted       0.99      1.00      0.99     24480\n",
      "    Converted       0.85      0.68      0.76       816\n",
      "\n",
      "  avg / total       0.99      0.99      0.99     25296\n",
      "\n",
      "\n",
      "\n",
      "Accuracy: 98.55%\n",
      "AUC Score: 84.27%\n",
      "\n",
      "               precision    recall  f1-score   support\n",
      "\n",
      "Non Converted       0.99      1.00      0.99     24480\n",
      "    Converted       0.83      0.69      0.75       816\n",
      "\n",
      "  avg / total       0.98      0.99      0.98     25296\n",
      "\n",
      "\n",
      "\n",
      "Accuracy: 98.69%\n",
      "AUC Score: 85.11%\n",
      "\n",
      "               precision    recall  f1-score   support\n",
      "\n",
      "Non Converted       0.99      1.00      0.99     24480\n",
      "    Converted       0.86      0.71      0.78       816\n",
      "\n",
      "  avg / total       0.99      0.99      0.99     25296\n",
      "\n",
      "\n",
      "\n",
      "Accuracy: 98.62%\n",
      "AUC Score: 83.35%\n",
      "\n",
      "               precision    recall  f1-score   support\n",
      "\n",
      "Non Converted       0.99      1.00      0.99     24480\n",
      "    Converted       0.87      0.67      0.76       816\n",
      "\n",
      "  avg / total       0.99      0.99      0.99     25296\n",
      "\n",
      "\n",
      "\n"
     ]
    }
   ],
   "source": [
    "## Look here for cross validation, stratified sampling.\n",
    "\n",
    "df_X = processed_df\n",
    "df_X = df_X.drop('converted', 1)\n",
    "X_std = MinMaxScaler().fit_transform(df_X)\n",
    "# X_std = MinMaxScaler().fit_transform(df_X)\n",
    "# print(X_std)\n",
    "X = X_std\n",
    "df_y = processed_df.converted\n",
    "y = df_y.values\n",
    "\n",
    "\n",
    "X_train, X_test, y_train, y_test = train_test_split(X, y, test_size=0.20, stratify=y)\n",
    "\n",
    "\n",
    "\n",
    "eval_size = 0.10\n",
    "skf = StratifiedKFold(y_train, n_folds=round(1/eval_size))\n",
    "\n",
    "selector = SelectKBest(chi2, k=8)\n",
    "scaler = StandardScaler()\n",
    "forest = RandomForestClassifier(class_weight=None) #Use auto, or a hand-coded dict to vary this.\n",
    "training_classifier = Pipeline([('feature_selector',selector),\n",
    "                                    ('classifier',forest)\n",
    "                                   ])\n",
    "\n",
    "for train_index, validate_index in skf:\n",
    "#     print(\"TRAIN:\", train_index, \"TEST:\", validate_index, len(validate_index), len(train_index))\n",
    "    X_crosstrain, X_validate = X_train[train_index], X_train[validate_index]\n",
    "    y_crosstrain, y_validate = y_train[train_index], y_train[validate_index]\n",
    "    \n",
    "    \n",
    "    training_classifier = training_classifier.fit(X_crosstrain,y_crosstrain)\n",
    "    \n",
    "    trial_predictions = training_classifier.predict(X_validate)\n",
    "    accuracy = accuracy_score(y_validate, trial_predictions)\n",
    "    print(\"Accuracy: \" + str(round(accuracy*100, 2)) + \"%\")\n",
    "    print(\"AUC Score: \" + str(round(roc_auc_score(y_validate, trial_predictions)*100, 2)) + \"%\")\n",
    "    print()\n",
    "    ## Printing Classification Report as accuracy is not a good measure when the classes are as imbalanced as this\n",
    "    ## The focus should be on the scores for the 'Payer' category.\n",
    "    print(classification_report(y_validate, trial_predictions, target_names=['Non Converted', 'Converted']))\n",
    "    print()\n",
    "    print()\n",
    "    "
   ]
  },
  {
   "cell_type": "code",
   "execution_count": 87,
   "metadata": {
    "collapsed": false
   },
   "outputs": [
    {
     "data": {
      "text/plain": [
       "<matplotlib.axes._subplots.AxesSubplot at 0x7f0ec6ddc358>"
      ]
     },
     "execution_count": 87,
     "metadata": {},
     "output_type": "execute_result"
    },
    {
     "data": {
      "image/png": "[encoded data removed]",
      "text/plain": [
       "<matplotlib.figure.Figure at 0x7f0ec6e23e10>"
      ]
     },
     "metadata": {},
     "output_type": "display_data"
    }
   ],
   "source": [
    "fil = selector.get_support()\n",
    "col_list = list(df_X.columns.values)\n",
    "relevant_features = list(compress(col_list, fil))\n",
    "feature_importance = pd.Series(forest.feature_importances_, index = relevant_features)\n",
    "feature_importance.plot.bar()"
   ]
  },
  {
   "cell_type": "code",
   "execution_count": null,
   "metadata": {
    "collapsed": false
   },
   "outputs": [],
   "source": []
  },
  {
   "cell_type": "code",
   "execution_count": 90,
   "metadata": {
    "collapsed": false
   },
   "outputs": [
    {
     "name": "stdout",
     "output_type": "stream",
     "text": [
      "0.737310246679\n",
      "               precision    recall  f1-score   support\n",
      "\n",
      "Non Converted       0.99      0.74      0.84     24480\n",
      "    Converted       0.08      0.71      0.15       816\n",
      "\n",
      "  avg / total       0.96      0.74      0.82     25296\n",
      "\n",
      "\n",
      "0.725332068311\n",
      "               precision    recall  f1-score   support\n",
      "\n",
      "Non Converted       0.99      0.72      0.84     24480\n",
      "    Converted       0.08      0.75      0.15       816\n",
      "\n",
      "  avg / total       0.96      0.73      0.81     25296\n",
      "\n",
      "\n",
      "0.740512333966\n",
      "               precision    recall  f1-score   support\n",
      "\n",
      "Non Converted       0.99      0.74      0.85     24480\n",
      "    Converted       0.09      0.72      0.15       816\n",
      "\n",
      "  avg / total       0.96      0.74      0.82     25296\n",
      "\n",
      "\n",
      "0.723869386464\n",
      "               precision    recall  f1-score   support\n",
      "\n",
      "Non Converted       0.99      0.72      0.84     24480\n",
      "    Converted       0.08      0.76      0.15       816\n",
      "\n",
      "  avg / total       0.96      0.72      0.81     25296\n",
      "\n",
      "\n",
      "0.735412713472\n",
      "               precision    recall  f1-score   support\n",
      "\n",
      "Non Converted       0.99      0.74      0.84     24480\n",
      "    Converted       0.08      0.74      0.15       816\n",
      "\n",
      "  avg / total       0.96      0.74      0.82     25296\n",
      "\n",
      "\n",
      "0.741342504744\n",
      "               precision    recall  f1-score   support\n",
      "\n",
      "Non Converted       0.99      0.74      0.85     24480\n",
      "    Converted       0.09      0.75      0.16       816\n",
      "\n",
      "  avg / total       0.96      0.74      0.82     25296\n",
      "\n",
      "\n",
      "0.728020240354\n",
      "               precision    recall  f1-score   support\n",
      "\n",
      "Non Converted       0.99      0.73      0.84     24480\n",
      "    Converted       0.08      0.74      0.15       816\n",
      "\n",
      "  avg / total       0.96      0.73      0.82     25296\n",
      "\n",
      "\n",
      "0.743160974067\n",
      "               precision    recall  f1-score   support\n",
      "\n",
      "Non Converted       0.99      0.74      0.85     24480\n",
      "    Converted       0.09      0.74      0.16       816\n",
      "\n",
      "  avg / total       0.96      0.74      0.83     25296\n",
      "\n",
      "\n",
      "0.730866540164\n",
      "               precision    recall  f1-score   support\n",
      "\n",
      "Non Converted       0.99      0.73      0.84     24480\n",
      "    Converted       0.08      0.73      0.15       816\n",
      "\n",
      "  avg / total       0.96      0.73      0.82     25296\n",
      "\n",
      "\n",
      "0.73754743833\n",
      "               precision    recall  f1-score   support\n",
      "\n",
      "Non Converted       0.99      0.74      0.84     24480\n",
      "    Converted       0.08      0.71      0.15       816\n",
      "\n",
      "  avg / total       0.96      0.74      0.82     25296\n",
      "\n",
      "\n"
     ]
    },
    {
     "data": {
      "text/plain": [
       "<matplotlib.axes._subplots.AxesSubplot at 0x7f0ec2e32f98>"
      ]
     },
     "execution_count": 90,
     "metadata": {},
     "output_type": "execute_result"
    },
    {
     "data": {
      "image/png": "[encoded data removed]",
      "text/plain": [
       "<matplotlib.figure.Figure at 0x7f0ec2db2128>"
      ]
     },
     "metadata": {},
     "output_type": "display_data"
    }
   ],
   "source": [
    "df_X = processed_df\n",
    "df_X = df_X.drop('converted', 1)\n",
    "df_X = df_X.drop('total_pages_visited', 1)\n",
    "df_X = df_X.drop('engagement_group', 1)\n",
    "X_std = MinMaxScaler().fit_transform(df_X)\n",
    "# X_std = MinMaxScaler().fit_transform(df_X)\n",
    "# print(X_std)\n",
    "X = X_std\n",
    "df_y = processed_df.converted\n",
    "y = df_y.values\n",
    "\n",
    "\n",
    "X_train, X_test, y_train, y_test = train_test_split(X, y, test_size=0.20, stratify=y)\n",
    "\n",
    "\n",
    "\n",
    "eval_size = 0.10\n",
    "skf = StratifiedKFold(y_train, n_folds=round(1/eval_size))\n",
    "\n",
    "selector = SelectKBest(chi2, k=8)\n",
    "scaler = StandardScaler()\n",
    "forest = RandomForestClassifier(class_weight='auto')\n",
    "training_classifier = Pipeline([('feature_selector',selector),\n",
    "                                    ('classifier',forest)\n",
    "                                   ])\n",
    "\n",
    "for train_index, validate_index in skf:\n",
    "#     print(\"TRAIN:\", train_index, \"TEST:\", validate_index, len(validate_index), len(train_index))\n",
    "    X_crosstrain, X_validate = X_train[train_index], X_train[validate_index]\n",
    "    y_crosstrain, y_validate = y_train[train_index], y_train[validate_index]\n",
    "    \n",
    "    \n",
    "    training_classifier = training_classifier.fit(X_crosstrain,y_crosstrain)\n",
    "    \n",
    "    trial_predictions = training_classifier.predict(X_validate)\n",
    "    accuracy = accuracy_score(y_validate, trial_predictions)\n",
    "    print(accuracy)\n",
    "    ## Printing Classification Report as accuracy is not a good measure when the classes are as imbalanced as this\n",
    "    ## The focus should be on the scores for the 'Payer' category.\n",
    "    print(classification_report(y_validate, trial_predictions, target_names=['Non Converted', 'Converted']))\n",
    "    print()\n",
    "    \n",
    "fil = selector.get_support()\n",
    "col_list = list(df_X.columns.values)\n",
    "relevant_features = list(compress(col_list, fil))\n",
    "feature_importance = pd.Series(forest.feature_importances_, index = relevant_features)\n",
    "feature_importance.plot.bar()\n",
    "    "
   ]
  },
  {
   "cell_type": "code",
   "execution_count": null,
   "metadata": {
    "collapsed": true
   },
   "outputs": [],
   "source": []
  }
 ],
 "metadata": {
  "anaconda-cloud": {},
  "kernelspec": {
   "display_name": "Python [conda root]",
   "language": "python",
   "name": "conda-root-py"
  },
  "language_info": {
   "codemirror_mode": {
    "name": "ipython",
    "version": 3
   },
   "file_extension": ".py",
   "mimetype": "text/x-python",
   "name": "python",
   "nbconvert_exporter": "python",
   "pygments_lexer": "ipython3",
   "version": "3.5.2"
  }
 },
 "nbformat": 4,
 "nbformat_minor": 1
}
